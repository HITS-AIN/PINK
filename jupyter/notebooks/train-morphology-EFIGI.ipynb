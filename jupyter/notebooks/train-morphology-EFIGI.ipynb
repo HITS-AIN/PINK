{
 "cells": [
  {
   "cell_type": "code",
   "execution_count": 1,
   "metadata": {},
   "outputs": [
    {
     "name": "stdout",
     "output_type": "stream",
     "text": [
      "version: 2\n",
      "file_type: 0\n",
      "data_type: 0\n",
      "number_of_images: 14\n",
      "layout: 0\n",
      "dimensionality: 3\n",
      "dimensions: [500 500   3]\n",
      "size: 750000\n"
     ]
    }
   ],
   "source": [
    "import pink\n",
    "import tools\n",
    "import numpy as np\n",
    "\n",
    "myiter = iter(tools.DataIterator(\"data/Morphology_EFIGI_small.bin\"))"
   ]
  },
  {
   "cell_type": "code",
   "execution_count": 2,
   "metadata": {},
   "outputs": [
    {
     "name": "stdout",
     "output_type": "stream",
     "text": [
      "500\n"
     ]
    }
   ],
   "source": [
    "import math\n",
    "\n",
    "som_dim = 8\n",
    "print(myiter.dimensions[0])\n",
    "neuron_dim = int(myiter.dimensions[0] / math.sqrt(2.0) * 2.0)\n",
    "\n",
    "np_som = np.random.rand(som_dim, som_dim, neuron_dim, neuron_dim).astype(np.float32)\n",
    "som = pink.SOM(np_som, neuron_layout=\"cartesian-3d\")\n",
    "\n",
    "trainer = pink.Trainer(som, number_of_rotations=60)"
   ]
  },
  {
   "cell_type": "code",
   "execution_count": 3,
   "metadata": {},
   "outputs": [
    {
     "data": {
      "application/vnd.jupyter.widget-view+json": {
       "model_id": "6932a562eacc449896bc0087b5ca8cbb",
       "version_major": 2,
       "version_minor": 0
      },
      "text/plain": [
       "HBox(children=(IntProgress(value=0, max=14), HTML(value='')))"
      ]
     },
     "metadata": {},
     "output_type": "display_data"
    },
    {
     "name": "stdout",
     "output_type": "stream",
     "text": [
      "\n"
     ]
    }
   ],
   "source": [
    "from tqdm import tqdm_notebook\n",
    "\n",
    "for image in tqdm_notebook(myiter, total=myiter.number_of_images):\n",
    "    trainer(pink.Data(image))"
   ]
  },
  {
   "cell_type": "code",
   "execution_count": null,
   "metadata": {},
   "outputs": [],
   "source": [
    "trainer.update_som()\n",
    "np_som = np.array(som, copy=True)\n",
    "\n",
    "print(np_som)\n",
    "\n",
    "# plt.figure(figsize=(10,10))\n",
    "# plt.imshow(np_som.swapaxes(1, 2).reshape((som_dim * neuron_dim, som_dim * neuron_dim)))\n",
    "# plt.grid(False)"
   ]
  },
  {
   "cell_type": "code",
   "execution_count": null,
   "metadata": {},
   "outputs": [],
   "source": []
  }
 ],
 "metadata": {
  "kernelspec": {
   "display_name": "Python 3",
   "language": "python",
   "name": "python3"
  },
  "language_info": {
   "codemirror_mode": {
    "name": "ipython",
    "version": 3
   },
   "file_extension": ".py",
   "mimetype": "text/x-python",
   "name": "python",
   "nbconvert_exporter": "python",
   "pygments_lexer": "ipython3",
   "version": "3.6.8"
  }
 },
 "nbformat": 4,
 "nbformat_minor": 2
}
