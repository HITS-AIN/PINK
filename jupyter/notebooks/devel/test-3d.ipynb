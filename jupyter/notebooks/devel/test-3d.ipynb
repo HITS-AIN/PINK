{
 "cells": [
  {
   "cell_type": "code",
   "execution_count": 1,
   "metadata": {},
   "outputs": [],
   "source": [
    "import pink\n",
    "import tools\n",
    "import numpy as np\n",
    "\n",
    "print(pink.__version__)\n",
    "\n",
    "images = np.zeros((1,4,4,2))\n",
    "images[0,1:3,1:3,0] = 1\n",
    "images[0,0,0,0] = 0.5\n",
    "images[0,3,0,0] = 0.5\n",
    "images[0,0,3,0] = 0.5\n",
    "images[0,3,3,0] = 0.5\n",
    "images[0,0,0,1] = 0.5\n",
    "images[0,3,0,1] = 0.5\n",
    "images[0,0,3,1] = 0.5\n",
    "images[0,3,3,1] = 0.5\n",
    "\n",
    "print('shape:     ', images.shape)\n",
    "print('min value: ', np.amin(images))\n",
    "print('max value: ', np.amax(images))"
   ]
  },
  {
   "cell_type": "code",
   "execution_count": 2,
   "metadata": {},
   "outputs": [
    {
     "data": {
      "text/plain": [
       "<matplotlib.image.AxesImage at 0x7fcdef1042b0>"
      ]
     },
     "execution_count": 2,
     "metadata": {},
     "output_type": "execute_result"
    },
    {
     "data": {
      "image/png": "[encoded data removed]",
      "text/plain": [
       "<Figure size 360x360 with 1 Axes>"
      ]
     },
     "metadata": {
      "needs_background": "light"
     },
     "output_type": "display_data"
    },
    {
     "data": {
      "image/png": "[encoded data removed]",
      "text/plain": [
       "<Figure size 360x360 with 1 Axes>"
      ]
     },
     "metadata": {
      "needs_background": "light"
     },
     "output_type": "display_data"
    }
   ],
   "source": [
    "%matplotlib inline\n",
    "import matplotlib.pyplot as plt\n",
    "\n",
    "plt.figure(figsize=(5,5))\n",
    "plt.imshow(images[0,:,:,0])\n",
    "\n",
    "plt.figure(figsize=(5,5))\n",
    "plt.imshow(images[0,:,:,1])"
   ]
  },
  {
   "cell_type": "code",
   "execution_count": 3,
   "metadata": {},
   "outputs": [
    {
     "name": "stdout",
     "output_type": "stream",
     "text": [
      "neuron_dim =  4\n",
      "euclid_dim =  4\n",
      "number_of_channnels =  2\n"
     ]
    }
   ],
   "source": [
    "import math\n",
    "\n",
    "som_dim = 2\n",
    "neuron_dim = images.shape[1]\n",
    "euclid_dim = images.shape[1]\n",
    "#neuron_dim = int(images.shape[1] / math.sqrt(2.0) * 2.0)\n",
    "#euclid_dim = int(images.shape[1] * math.sqrt(2.0) / 2.0)\n",
    "number_of_channnels = images.shape[3]\n",
    "\n",
    "print(\"neuron_dim = \", neuron_dim)\n",
    "print(\"euclid_dim = \", euclid_dim)\n",
    "print(\"number_of_channnels = \", number_of_channnels)\n",
    "\n",
    "#np_som = np.random.rand(som_dim, som_dim, neuron_dim, neuron_dim, number_of_channnels).astype(np.float32)\n",
    "np_som = np.zeros((som_dim, som_dim, neuron_dim, neuron_dim, number_of_channnels)).astype(np.float32)\n",
    "som = pink.SOM(np_som, neuron_layout=\"cartesian-3d\")\n",
    "\n",
    "trainer = pink.Trainer(som,\n",
    "                       number_of_rotations=1,\n",
    "                       use_flip=False,\n",
    "                       euclidean_distance_dim=euclid_dim,\n",
    "                       use_gpu=False,\n",
    "                       verbosity=1)"
   ]
  },
  {
   "cell_type": "code",
   "execution_count": 4,
   "metadata": {},
   "outputs": [
    {
     "name": "stdout",
     "output_type": "stream",
     "text": [
      "[[[0.5 0.5]\n",
      "  [0.  0. ]\n",
      "  [0.  0. ]\n",
      "  [0.5 0.5]]\n",
      "\n",
      " [[0.  0. ]\n",
      "  [1.  0. ]\n",
      "  [1.  0. ]\n",
      "  [0.  0. ]]\n",
      "\n",
      " [[0.  0. ]\n",
      "  [1.  0. ]\n",
      "  [1.  0. ]\n",
      "  [0.  0. ]]\n",
      "\n",
      " [[0.5 0.5]\n",
      "  [0.  0. ]\n",
      "  [0.  0. ]\n",
      "  [0.5 0.5]]]\n"
     ]
    },
    {
     "data": {
      "application/vnd.jupyter.widget-view+json": {
       "model_id": "996a92da87784335b7027f8e22fbd97c",
       "version_major": 2,
       "version_minor": 0
      },
      "text/plain": [
       "HBox(children=(FloatProgress(value=0.0, max=1.0), HTML(value='')))"
      ]
     },
     "metadata": {},
     "output_type": "display_data"
    },
    {
     "name": "stdout",
     "output_type": "stream",
     "text": [
      "\n"
     ]
    }
   ],
   "source": [
    "from tqdm.notebook import trange, tqdm\n",
    "\n",
    "print(images[0])\n",
    "\n",
    "for j in trange(1):\n",
    "    for i in range(images.shape[0]):\n",
    "        trainer(pink.Data(images[i], layout=\"cartesian-3d\"))"
   ]
  },
  {
   "cell_type": "code",
   "execution_count": 5,
   "metadata": {},
   "outputs": [
    {
     "name": "stdout",
     "output_type": "stream",
     "text": [
      "(2, 2, 4, 4, 2)\n"
     ]
    }
   ],
   "source": [
    "trainer.update_som()\n",
    "np_som = np.array(som, copy=True)\n",
    "print(np_som.shape)"
   ]
  },
  {
   "cell_type": "code",
   "execution_count": 6,
   "metadata": {},
   "outputs": [
    {
     "name": "stdout",
     "output_type": "stream",
     "text": [
      "(2, 4, 2, 4)\n"
     ]
    },
    {
     "data": {
      "image/png": "[encoded data removed]",
      "text/plain": [
       "<Figure size 720x720 with 1 Axes>"
      ]
     },
     "metadata": {
      "needs_background": "light"
     },
     "output_type": "display_data"
    },
    {
     "data": {
      "image/png": "[encoded data removed]",
      "text/plain": [
       "<Figure size 720x720 with 1 Axes>"
      ]
     },
     "metadata": {
      "needs_background": "light"
     },
     "output_type": "display_data"
    }
   ],
   "source": [
    "%matplotlib inline\n",
    "import matplotlib.pyplot as plt\n",
    "\n",
    "print(np_som[:,:,:,:,0].swapaxes(1, 2).shape)\n",
    "\n",
    "plt.figure(figsize=(10,10))\n",
    "plt.imshow(np_som[:,:,:,:,0].swapaxes(1, 2).reshape((som_dim * neuron_dim, som_dim * neuron_dim)))\n",
    "plt.grid(False)\n",
    "\n",
    "plt.figure(figsize=(10,10))\n",
    "plt.imshow(np_som[:,:,:,:,1].swapaxes(1, 2).reshape((som_dim * neuron_dim, som_dim * neuron_dim)))\n",
    "plt.grid(False)"
   ]
  },
  {
   "cell_type": "code",
   "execution_count": null,
   "metadata": {},
   "outputs": [],
   "source": []
  }
 ],
 "metadata": {
  "kernelspec": {
   "display_name": "Python 3",
   "language": "python",
   "name": "python3"
  },
  "language_info": {
   "codemirror_mode": {
    "name": "ipython",
    "version": 3
   },
   "file_extension": ".py",
   "mimetype": "text/x-python",
   "name": "python",
   "nbconvert_exporter": "python",
   "pygments_lexer": "ipython3",
   "version": "3.6.9"
  }
 },
 "nbformat": 4,
 "nbformat_minor": 2
}
