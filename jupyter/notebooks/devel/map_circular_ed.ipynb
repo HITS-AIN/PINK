{
 "cells": [
  {
   "cell_type": "code",
   "execution_count": 47,
   "metadata": {},
   "outputs": [
    {
     "data": {
      "image/png": "[encoded data removed]",
      "text/plain": [
       "<Figure size 432x288 with 1 Axes>"
      ]
     },
     "metadata": {
      "needs_background": "light"
     },
     "output_type": "display_data"
    }
   ],
   "source": [
    "import numpy as np\n",
    "import matplotlib.pyplot as plt\n",
    "\n",
    "dim = 16\n",
    "\n",
    "shape = (dim, dim)\n",
    "half_dim = dim / 2\n",
    "\n",
    "data = np.zeros(shape)\n",
    "\n",
    "for y in range(shape[0]):\n",
    "    delta = (2 * half_dim * (y+0.5) - (y+0.5)**2)**0.5\n",
    "    for x in range(round(half_dim - delta), round(half_dim + delta)):\n",
    "        data[y,x] = 1\n",
    "\n",
    "fig, ax = plt.subplots(1,1)\n",
    "\n",
    "ax.imshow(data)\n",
    "\n",
    "fig.show()"
   ]
  },
  {
   "cell_type": "code",
   "execution_count": null,
   "metadata": {},
   "outputs": [],
   "source": []
  }
 ],
 "metadata": {
  "kernelspec": {
   "display_name": "Python 3",
   "language": "python",
   "name": "python3"
  },
  "language_info": {
   "codemirror_mode": {
    "name": "ipython",
    "version": 3
   },
   "file_extension": ".py",
   "mimetype": "text/x-python",
   "name": "python",
   "nbconvert_exporter": "python",
   "pygments_lexer": "ipython3",
   "version": "3.7.3"
  }
 },
 "nbformat": 4,
 "nbformat_minor": 4
}
