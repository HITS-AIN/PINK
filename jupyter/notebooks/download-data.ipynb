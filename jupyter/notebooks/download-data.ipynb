{
 "cells": [
  {
   "cell_type": "code",
   "execution_count": 1,
   "metadata": {},
   "outputs": [
    {
     "name": "stdout",
     "output_type": "stream",
     "text": [
      "Requirement already satisfied: googledrivedownloader in /home/doserbd/.local/lib/python3.6/site-packages (0.4)\r\n",
      "Requirement already satisfied: requests in /home/doserbd/.local/lib/python3.6/site-packages (2.22.0)\r\n",
      "Requirement already satisfied: idna<2.9,>=2.5 in /home/doserbd/.local/lib/python3.6/site-packages (from requests) (2.8)\r\n",
      "Requirement already satisfied: chardet<3.1.0,>=3.0.2 in /home/doserbd/.local/lib/python3.6/site-packages (from requests) (3.0.4)\r\n",
      "Requirement already satisfied: urllib3!=1.25.0,!=1.25.1,<1.26,>=1.21.1 in /home/doserbd/.local/lib/python3.6/site-packages (from requests) (1.25.6)\r\n",
      "Requirement already satisfied: certifi>=2017.4.17 in /home/doserbd/.local/lib/python3.6/site-packages (from requests) (2019.9.11)\r\n"
     ]
    }
   ],
   "source": [
    "import sys\n",
    "!{sys.executable} -m pip install --user googledrivedownloader requests\n",
    "%reset -f"
   ]
  },
  {
   "cell_type": "markdown",
   "metadata": {},
   "source": [
    "Download data files (690 MB) ... will take some time!"
   ]
  },
  {
   "cell_type": "code",
   "execution_count": 2,
   "metadata": {},
   "outputs": [
    {
     "name": "stdout",
     "output_type": "stream",
     "text": [
      "Downloading 1Owv1c8qsc6RWQ9UgZuZ9qsRcXwQE2Viw into ./data/AIN-ADASS.zip... \n",
      "690.2 MiB                                                                                                                                                                                                                                                                                                                                                                                                                                                                                                                                                                Done.\n",
      "Unzipping...Done.\n",
      "Done\n"
     ]
    }
   ],
   "source": [
    "from google_drive_downloader import GoogleDriveDownloader as gdd\n",
    "\n",
    "gdd.download_file_from_google_drive(file_id='1Owv1c8qsc6RWQ9UgZuZ9qsRcXwQE2Viw',\n",
    "                                    dest_path='./data/AIN-ADASS.zip',\n",
    "                                    unzip=True,\n",
    "                                    showsize=True,\n",
    "                                    overwrite=True)\n",
    "\n",
    "print('Done')"
   ]
  },
  {
   "cell_type": "code",
   "execution_count": null,
   "metadata": {},
   "outputs": [],
   "source": []
  }
 ],
 "metadata": {
  "kernelspec": {
   "display_name": "Python 3",
   "language": "python",
   "name": "python3"
  },
  "language_info": {
   "codemirror_mode": {
    "name": "ipython",
    "version": 3
   },
   "file_extension": ".py",
   "mimetype": "text/x-python",
   "name": "python",
   "nbconvert_exporter": "python",
   "pygments_lexer": "ipython3",
   "version": "3.6.8"
  }
 },
 "nbformat": 4,
 "nbformat_minor": 2
}
