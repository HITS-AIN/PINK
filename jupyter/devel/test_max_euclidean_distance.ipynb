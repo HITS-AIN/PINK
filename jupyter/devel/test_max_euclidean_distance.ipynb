{
 "cells": [
  {
   "cell_type": "code",
   "execution_count": 1,
   "metadata": {},
   "outputs": [],
   "source": [
    "import pink\n",
    "import numpy as np\n",
    "\n",
    "np_som = np.zeros((1, 1, 360, 360), dtype=np.float32)\n",
    "som = pink.SOM(np_som, neuron_layout=\"cartesian-2d\")"
   ]
  },
  {
   "cell_type": "code",
   "execution_count": 2,
   "metadata": {},
   "outputs": [],
   "source": [
    "np_data = np.ones((255, 255), dtype=np.float32)\n",
    "data = pink.Data(np_data)"
   ]
  },
  {
   "cell_type": "code",
   "execution_count": 3,
   "metadata": {},
   "outputs": [],
   "source": [
    "mapper = pink.Mapper(som, euclidean_distance_dim=180, number_of_rotations=8)\n",
    "\n",
    "euclidean_distances, _ = mapper(data)"
   ]
  },
  {
   "cell_type": "code",
   "execution_count": 4,
   "metadata": {},
   "outputs": [
    {
     "name": "stdout",
     "output_type": "stream",
     "text": [
      "[179.98976135253906]\n"
     ]
    }
   ],
   "source": [
    "print(euclidean_distances)"
   ]
  },
  {
   "cell_type": "code",
   "execution_count": null,
   "metadata": {},
   "outputs": [],
   "source": []
  }
 ],
 "metadata": {
  "kernelspec": {
   "display_name": "Python 3",
   "language": "python",
   "name": "python3"
  },
  "language_info": {
   "codemirror_mode": {
    "name": "ipython",
    "version": 3
   },
   "file_extension": ".py",
   "mimetype": "text/x-python",
   "name": "python",
   "nbconvert_exporter": "python",
   "pygments_lexer": "ipython3",
   "version": "3.6.8"
  }
 },
 "nbformat": 4,
 "nbformat_minor": 2
}
