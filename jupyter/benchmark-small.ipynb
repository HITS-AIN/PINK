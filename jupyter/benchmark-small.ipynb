{
 "cells": [
  {
   "cell_type": "code",
   "execution_count": 1,
   "metadata": {},
   "outputs": [
    {
     "name": "stdout",
     "output_type": "stream",
     "text": [
      "shape:      (4284, 130, 130)\n",
      "min value:  0.0\n",
      "max value:  1.0\n"
     ]
    }
   ],
   "source": [
    "import numpy as np\n",
    "\n",
    "images = np.load(\"data/radio-galaxies.npy\").astype(np.float32)\n",
    "np.random.shuffle(images)\n",
    "\n",
    "images = np.squeeze(images)\n",
    "\n",
    "print('shape:     ', images.shape)\n",
    "print('min value: ', np.amin(images))\n",
    "print('max value: ', np.amax(images))"
   ]
  },
  {
   "cell_type": "code",
   "execution_count": 2,
   "metadata": {},
   "outputs": [
    {
     "data": {
      "image/png": "[encoded data removed]",
      "text/plain": [
       "<Figure size 720x720 with 25 Axes>"
      ]
     },
     "metadata": {},
     "output_type": "display_data"
    }
   ],
   "source": [
    "%matplotlib inline\n",
    "import matplotlib.pyplot as plt\n",
    "\n",
    "plt.figure(figsize=(10,10))\n",
    "for i in range(25):\n",
    "    plt.subplot(5,5,i+1)\n",
    "    plt.xticks([])\n",
    "    plt.yticks([])\n",
    "    plt.grid(False)\n",
    "    plt.imshow(images[i])\n",
    "    plt.xlabel(i)"
   ]
  },
  {
   "cell_type": "code",
   "execution_count": 3,
   "metadata": {},
   "outputs": [
    {
     "name": "stdout",
     "output_type": "stream",
     "text": [
      "neuron_dim =  183\n",
      "euclid_dim =  91\n"
     ]
    }
   ],
   "source": [
    "import math\n",
    "import pink\n",
    "\n",
    "som_dim = 10\n",
    "neuron_dim = int(images.shape[1] / math.sqrt(2.0) * 2.0)\n",
    "euclid_dim = int(images.shape[1] * math.sqrt(2.0) / 2.0)\n",
    "print(\"neuron_dim = \", neuron_dim)\n",
    "print(\"euclid_dim = \", euclid_dim)\n",
    "\n",
    "np_som = np.zeros((som_dim, som_dim, neuron_dim, neuron_dim)).astype(np.float32)\n",
    "som = pink.SOM(np_som)\n",
    "\n",
    "data = [pink.Data(images[i]) for i in range(len(images))]\n",
    "\n",
    "trainer = pink.Trainer(som, euclidean_distance_dim=euclid_dim,\n",
    "                       use_gpu=False)"
   ]
  },
  {
   "cell_type": "code",
   "execution_count": 4,
   "metadata": {},
   "outputs": [
    {
     "data": {
      "application/vnd.jupyter.widget-view+json": {
       "model_id": "f43dd168b0184cc4ae19fc3e4cc5f242",
       "version_major": 2,
       "version_minor": 0
      },
      "text/plain": [
       "HBox(children=(IntProgress(value=0, description='train', style=ProgressStyle(description_width='initial')), HT…"
      ]
     },
     "metadata": {},
     "output_type": "display_data"
    },
    {
     "name": "stdout",
     "output_type": "stream",
     "text": [
      "\n",
      "time_cpu 19.63876962661743\n"
     ]
    }
   ],
   "source": [
    "from tqdm import tqdm_notebook\n",
    "import time\n",
    "\n",
    "nb_train = 100\n",
    "nb_warm_up = 20\n",
    "\n",
    "start_time = time.time()\n",
    "\n",
    "for i in tqdm_notebook(range(nb_train), desc=\"train\"):\n",
    "    trainer(data[i])\n",
    "    \n",
    "time_cpu = time.time() - start_time\n",
    "\n",
    "print(\"time_cpu\", time_cpu)"
   ]
  },
  {
   "cell_type": "code",
   "execution_count": 5,
   "metadata": {},
   "outputs": [
    {
     "data": {
      "application/vnd.jupyter.widget-view+json": {
       "model_id": "3192ec85760048369550e33fc9f93267",
       "version_major": 2,
       "version_minor": 0
      },
      "text/plain": [
       "HBox(children=(IntProgress(value=0, description='train', style=ProgressStyle(description_width='initial')), HT…"
      ]
     },
     "metadata": {},
     "output_type": "display_data"
    },
    {
     "name": "stdout",
     "output_type": "stream",
     "text": [
      "\n",
      "time_gpu_float 0.9312102794647217\n"
     ]
    }
   ],
   "source": [
    "trainer = pink.Trainer(som, euclidean_distance_dim=euclid_dim,\n",
    "                       euclidean_distance_type=pink.FLOAT)\n",
    "\n",
    "start_time = time.time()\n",
    "\n",
    "for i in tqdm_notebook(range(nb_train), desc=\"train\"):\n",
    "    trainer(data[i])\n",
    "    \n",
    "time_gpu_float = time.time() - start_time\n",
    "\n",
    "print(\"time_gpu_float\", time_gpu_float)"
   ]
  },
  {
   "cell_type": "code",
   "execution_count": 6,
   "metadata": {},
   "outputs": [
    {
     "data": {
      "application/vnd.jupyter.widget-view+json": {
       "model_id": "ac9c8aa0b2d9472992034176986ae4f6",
       "version_major": 2,
       "version_minor": 0
      },
      "text/plain": [
       "HBox(children=(IntProgress(value=0, description='train', max=20, style=ProgressStyle(description_width='initia…"
      ]
     },
     "metadata": {},
     "output_type": "display_data"
    },
    {
     "name": "stdout",
     "output_type": "stream",
     "text": [
      "\n"
     ]
    },
    {
     "data": {
      "application/vnd.jupyter.widget-view+json": {
       "model_id": "e7c59bbd9fd74056b3c8755bc0a06408",
       "version_major": 2,
       "version_minor": 0
      },
      "text/plain": [
       "HBox(children=(IntProgress(value=0, description='train', style=ProgressStyle(description_width='initial')), HT…"
      ]
     },
     "metadata": {},
     "output_type": "display_data"
    },
    {
     "name": "stdout",
     "output_type": "stream",
     "text": [
      "\n",
      "time_gpu_uint8 0.5055632591247559\n"
     ]
    }
   ],
   "source": [
    "trainer = pink.Trainer(som, euclidean_distance_dim=euclid_dim,\n",
    "                       euclidean_distance_type=pink.UINT8)\n",
    "\n",
    "# Warm up\n",
    "for i in tqdm_notebook(range(nb_warm_up), desc=\"train\"):\n",
    "    trainer(data[i])\n",
    "\n",
    "start_time = time.time()\n",
    "\n",
    "for i in tqdm_notebook(range(nb_train), desc=\"train\"):\n",
    "    trainer(data[i])\n",
    "    \n",
    "time_gpu_uint8 = time.time() - start_time\n",
    "\n",
    "print(\"time_gpu_uint8\", time_gpu_uint8)"
   ]
  },
  {
   "cell_type": "code",
   "execution_count": 7,
   "metadata": {},
   "outputs": [
    {
     "data": {
      "text/plain": [
       "<BarContainer object of 3 artists>"
      ]
     },
     "execution_count": 7,
     "metadata": {},
     "output_type": "execute_result"
    },
    {
     "data": {
      "image/png": "[encoded data removed]",
      "text/plain": [
       "<Figure size 1080x576 with 1 Axes>"
      ]
     },
     "metadata": {
      "needs_background": "light"
     },
     "output_type": "display_data"
    }
   ],
   "source": [
    "%matplotlib inline\n",
    "\n",
    "fig, ax = plt.subplots(figsize=(15, 8))\n",
    "ax.barh(['GPU 8 bit', 'GPU 32 bit', 'CPU'], [time_gpu_uint8, time_gpu_float, time_cpu])"
   ]
  },
  {
   "cell_type": "code",
   "execution_count": null,
   "metadata": {},
   "outputs": [],
   "source": []
  }
 ],
 "metadata": {
  "kernelspec": {
   "display_name": "Python 3",
   "language": "python",
   "name": "python3"
  },
  "language_info": {
   "codemirror_mode": {
    "name": "ipython",
    "version": 3
   },
   "file_extension": ".py",
   "mimetype": "text/x-python",
   "name": "python",
   "nbconvert_exporter": "python",
   "pygments_lexer": "ipython3",
   "version": "3.6.8"
  }
 },
 "nbformat": 4,
 "nbformat_minor": 2
}
